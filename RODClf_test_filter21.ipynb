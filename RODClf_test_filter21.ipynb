{
 "metadata": {
  "language": "Julia",
  "name": "",
  "signature": "sha256:1d21e0168d9b5ab763a2bd2ac118c4527f1772a3d5b9f8377384322a42bc063f"
 },
 "nbformat": 3,
 "nbformat_minor": 0,
 "worksheets": [
  {
   "cells": [
    {
     "cell_type": "code",
     "collapsed": false,
     "input": [
      "using RODClf, Images"
     ],
     "language": "python",
     "metadata": {},
     "outputs": [],
     "prompt_number": 23
    },
    {
     "cell_type": "heading",
     "level": 3,
     "metadata": {},
     "source": [
      "Load test image data"
     ]
    },
    {
     "cell_type": "code",
     "collapsed": false,
     "input": [
      "#test image data\n",
      "imgobj = img_load(\"test.jpg\");\n",
      "test_image = separate(Image(imgobj.image, imgobj.properties));"
     ],
     "language": "python",
     "metadata": {},
     "outputs": [],
     "prompt_number": 24
    },
    {
     "cell_type": "heading",
     "level": 3,
     "metadata": {},
     "source": [
      "Define filter geometry"
     ]
    },
    {
     "cell_type": "code",
     "collapsed": false,
     "input": [
      "filter_shape  = FilterGeometry(8, 8, 4, 5, 3, 2, 0, 0);"
     ],
     "language": "python",
     "metadata": {},
     "outputs": [],
     "prompt_number": 25
    },
    {
     "cell_type": "heading",
     "level": 3,
     "metadata": {},
     "source": [
      "Define how many segments the 'x' and 'y' axis should be split into"
     ]
    },
    {
     "cell_type": "code",
     "collapsed": false,
     "input": [
      "dx_resolution = filter_shape.dx_resolution\n",
      "dy_resolution = filter_shape.dy_resolution;"
     ],
     "language": "python",
     "metadata": {},
     "outputs": [],
     "prompt_number": 26
    },
    {
     "cell_type": "heading",
     "level": 3,
     "metadata": {},
     "source": [
      "Define how many segments are required for both 'x' and 'y' axis"
     ]
    },
    {
     "cell_type": "code",
     "collapsed": false,
     "input": [
      "dx_units = filter_shape.dx_units\n",
      "dy_units = filter_shape.dy_units;"
     ],
     "language": "python",
     "metadata": {},
     "outputs": [],
     "prompt_number": 27
    },
    {
     "cell_type": "heading",
     "level": 3,
     "metadata": {},
     "source": [
      "Define number of visible panels on 'x' and 'y' axis; corresponds to lateral and vertical split"
     ]
    },
    {
     "cell_type": "code",
     "collapsed": false,
     "input": [
      "x_units = filter_shape.x_units\n",
      "y_units = filter_shape.y_units;"
     ],
     "language": "python",
     "metadata": {},
     "outputs": [],
     "prompt_number": 28
    },
    {
     "cell_type": "heading",
     "level": 3,
     "metadata": {},
     "source": [
      "Create 'dx' and 'dy' values for 'x' and 'y' axis,  measured in pixels "
     ]
    },
    {
     "cell_type": "code",
     "collapsed": false,
     "input": [
      "dx = signed(imgobj.ndims[1]/dx_resolution-0.5)\n",
      "dy = signed(imgobj.ndims[2]/dy_resolution-0.5);"
     ],
     "language": "python",
     "metadata": {},
     "outputs": [],
     "prompt_number": 29
    },
    {
     "cell_type": "heading",
     "level": 3,
     "metadata": {},
     "source": [
      "Define filter-offset"
     ]
    },
    {
     "cell_type": "code",
     "collapsed": false,
     "input": [
      "x_offset = filter_shape.x_offset;\n",
      "y_offset = filter_shape.y_offset;"
     ],
     "language": "python",
     "metadata": {},
     "outputs": [],
     "prompt_number": 30
    },
    {
     "cell_type": "heading",
     "level": 3,
     "metadata": {},
     "source": [
      "Generate filter-coefficients (with offset)"
     ]
    },
    {
     "cell_type": "raw",
     "metadata": {},
     "source": [
      "Initialise empty array, 'x', iterate over 'panels' in filter, generating the filter-coefficients for each dimension"
     ]
    },
    {
     "cell_type": "code",
     "collapsed": false,
     "input": [
      "x = Array[]\n",
      "for j in [1:y_units]\n",
      "    for i in [1:x_units]\n",
      "        #push!(x, test_image.data[dy*j:dy*dy_units, dx*i:dx*dx_units, :])\n",
      "        if j == 1\n",
      "            if i == 1\n",
      "                push!(x, test_image.data[1*(y_offset+1):((dy*j)-1)*(y_offset+1), 1*(x_offset+1):(dx*i)*(x_offset+1), :])\n",
      "            else\n",
      "                push!(x, test_image.data[1*(y_offset+1):((dy*j)-1)*(y_offset+1), (dx*i)*(x_offset+1):((dx*(i+1))-1)*(x_offset+1), :])\n",
      "                \n",
      "            end\n",
      "        else\n",
      "            if i == 1\n",
      "                push!(x, test_image.data[(dy*j)*(y_offset+1):(dy*(j+1)-1)*(y_offset+1), 1*(x_offset+1):(dx*i)*(x_offset+1), :])\n",
      "            else\n",
      "                push!(x, test_image.data[(dy*j)*(y_offset+1):(dy*(j+1)-1)*(y_offset+1), (dx*i)*(x_offset+1):((dx*(i+1))-1)*(x_offset+1), :])\n",
      "            end\n",
      "        end\n",
      "    end\n",
      "end"
     ],
     "language": "python",
     "metadata": {},
     "outputs": [],
     "prompt_number": 31
    },
    {
     "cell_type": "heading",
     "level": 3,
     "metadata": {},
     "source": [
      "Calculate image integral"
     ]
    },
    {
     "cell_type": "code",
     "collapsed": false,
     "input": [
      "function integral_sum2(x)\n",
      "    tot = 0\n",
      "    for pt in x\n",
      "        tot += pt\n",
      "    end\n",
      "    print(tot)\n",
      "end\n",
      "@time integral_sum2(x[2])"
     ],
     "language": "python",
     "metadata": {},
     "outputs": [
      {
       "output_type": "stream",
       "stream": "stdout",
       "text": [
        "11788."
       ]
      },
      {
       "output_type": "stream",
       "stream": "stdout",
       "text": [
        "419607842601elapsed time: 0.011266029 seconds (342068 bytes allocated)\n"
       ]
      }
     ],
     "prompt_number": 39
    },
    {
     "cell_type": "code",
     "collapsed": false,
     "input": [
      "@time integral_sum(x[1])"
     ],
     "language": "python",
     "metadata": {},
     "outputs": [
      {
       "output_type": "stream",
       "stream": "stdout",
       "text": [
        "elapsed time: 0."
       ]
      },
      {
       "output_type": "stream",
       "stream": "stdout",
       "text": [
        "001593079 seconds (238140 bytes allocated)\n"
       ]
      },
      {
       "metadata": {},
       "output_type": "pyout",
       "prompt_number": 43,
       "text": [
        "12803.627f0"
       ]
      }
     ],
     "prompt_number": 43
    },
    {
     "cell_type": "code",
     "collapsed": false,
     "input": [
      "Image(x[1], test_image.properties)"
     ],
     "language": "python",
     "metadata": {},
     "outputs": [
      {
       "metadata": {},
       "output_type": "pyout",
       "png": "[encoded data removed]",
       "prompt_number": 16,
       "text": [
        "RGB Image with:\n",
        "  data: 80x62x3 Array{UfixedBase{Uint8,8},3}\n",
        "  properties:\n",
        "    colorspace: RGB\n",
        "    spatialorder:  y x\n",
        "    pixelspacing:  1 1\n",
        "    colordim: 3\n",
        "    IMcs: sRGB"
       ]
      }
     ],
     "prompt_number": 16
    },
    {
     "cell_type": "code",
     "collapsed": false,
     "input": [
      "x_offset = 1\n",
      "y_offset = 1;\n",
      "\n",
      "[   (1 * (y_offset+1) * dy) - dy  :     ((dy*1)-1) * (y_offset+1)     ]"
     ],
     "language": "python",
     "metadata": {},
     "outputs": [
      {
       "metadata": {},
       "output_type": "pyout",
       "prompt_number": 44,
       "text": [
        "80-element Array{Int32,1}:\n",
        "  81\n",
        "  82\n",
        "  83\n",
        "  84\n",
        "  85\n",
        "  86\n",
        "  87\n",
        "  88\n",
        "  89\n",
        "  90\n",
        "  91\n",
        "  92\n",
        "  93\n",
        "   \u22ee\n",
        " 149\n",
        " 150\n",
        " 151\n",
        " 152\n",
        " 153\n",
        " 154\n",
        " 155\n",
        " 156\n",
        " 157\n",
        " 158\n",
        " 159\n",
        " 160"
       ]
      }
     ],
     "prompt_number": 44
    },
    {
     "cell_type": "code",
     "collapsed": false,
     "input": [
      "test_image.properties"
     ],
     "language": "python",
     "metadata": {},
     "outputs": [
      {
       "metadata": {},
       "output_type": "pyout",
       "prompt_number": 14,
       "text": [
        "Dict{ASCIIString,Any} with 5 entries:\n",
        "  \"IMcs\"         => \"sRGB\"\n",
        "  \"colorspace\"   => \"RGB\"\n",
        "  \"colordim\"     => 3\n",
        "  \"spatialorder\" => ASCIIString[\"y\",\"x\"]\n",
        "  \"pixelspacing\" => [1,1]"
       ]
      }
     ],
     "prompt_number": 14
    }
   ],
   "metadata": {}
  }
 ]
}