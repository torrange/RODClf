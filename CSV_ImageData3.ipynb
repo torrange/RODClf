{
 "metadata": {
  "language": "Julia",
  "name": "",
  "signature": "sha256:2f7b7bb7a8f29f9e396c57266d3471b754d6e0bb77bab1f89168a271ae4a3293"
 },
 "nbformat": 3,
 "nbformat_minor": 0,
 "worksheets": [
  {
   "cells": [
    {
     "cell_type": "code",
     "collapsed": false,
     "input": [
      "using Images, RODClf, Color, FixedPointNumbers"
     ],
     "language": "python",
     "metadata": {},
     "outputs": [],
     "prompt_number": 3
    },
    {
     "cell_type": "code",
     "collapsed": false,
     "input": [
      "images_csv = readcsv(\"./dataset/test.csv\");"
     ],
     "language": "python",
     "metadata": {},
     "outputs": [],
     "prompt_number": 6
    },
    {
     "cell_type": "code",
     "collapsed": false,
     "input": [
      "props = {\"spatialorder\" => ASCIIString[\"x\",\"y\"],\"pixelspacing\" => [1,1],\"IMcs\" => \"sRGB\"}"
     ],
     "language": "python",
     "metadata": {},
     "outputs": [
      {
       "metadata": {},
       "output_type": "pyout",
       "prompt_number": 7,
       "text": [
        "Dict{Any,Any} with 3 entries:\n",
        "  \"spatialorder\" => ASCIIString[\"x\",\"y\"]\n",
        "  \"pixelspacing\" => [1,1]\n",
        "  \"IMcs\"         => \"sRGB\""
       ]
      }
     ],
     "prompt_number": 7
    },
    {
     "cell_type": "code",
     "collapsed": false,
     "input": [
      "y = [convert(Ufixed8,convert(Uint8,0xff-integer(x))) for x in split(images_csv[725,2], \" \")];\n",
      "z = reshape([RGB{Ufixed8}(x, x, x) for x in y], (96,96));"
     ],
     "language": "python",
     "metadata": {},
     "outputs": [],
     "prompt_number": 14
    },
    {
     "cell_type": "code",
     "collapsed": false,
     "input": [
      "Image(z, props)"
     ],
     "language": "python",
     "metadata": {},
     "outputs": [
      {
       "metadata": {},
       "output_type": "pyout",
       "png": "[encoded data removed]",
       "prompt_number": 19,
       "text": [
        "RGB Image with:\n",
        "  data: 96x96 Array{RGB{UfixedBase{Uint8,8}},2}\n",
        "  properties:\n",
        "    spatialorder:  x y\n",
        "    pixelspacing:  1 1\n",
        "    IMcs: sRGB"
       ]
      }
     ],
     "prompt_number": 19
    },
    {
     "cell_type": "code",
     "collapsed": false,
     "input": [
      "size(images_csv)"
     ],
     "language": "python",
     "metadata": {},
     "outputs": [
      {
       "metadata": {},
       "output_type": "pyout",
       "prompt_number": 25,
       "text": [
        "(1784,2)"
       ]
      }
     ],
     "prompt_number": 25
    }
   ],
   "metadata": {}
  }
 ]
}