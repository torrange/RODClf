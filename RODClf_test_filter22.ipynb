{
 "metadata": {
  "language": "Julia",
  "name": "",
  "signature": "sha256:d7b43028db4d686a022d6072c0ed20f7b7388680f8cae863a6ebf61de2a954cb"
 },
 "nbformat": 3,
 "nbformat_minor": 0,
 "worksheets": [
  {
   "cells": [
    {
     "cell_type": "code",
     "collapsed": false,
     "input": [
      "using RODClf, Images"
     ],
     "language": "python",
     "metadata": {},
     "outputs": [],
     "prompt_number": 2
    },
    {
     "cell_type": "heading",
     "level": 3,
     "metadata": {},
     "source": [
      "Load test image data"
     ]
    },
    {
     "cell_type": "code",
     "collapsed": false,
     "input": [
      "#test image data\n",
      "imgobj = img_load(\"test.jpg\");\n",
      "test_image = separate(Image(imgobj.image, imgobj.properties));"
     ],
     "language": "python",
     "metadata": {},
     "outputs": [],
     "prompt_number": 3
    },
    {
     "cell_type": "raw",
     "metadata": {},
     "source": [
      "Initialise empty array, 'x', iterate over 'panels' in filter, generating the filter-coefficients for each dimension"
     ]
    },
    {
     "cell_type": "code",
     "collapsed": false,
     "input": [
      "filter_shape  = FilterGeometry(8, 8, 4, 5, 3, 2, 0, 0);\n",
      "dx_resolution = filter_shape.dx_resolution\n",
      "dy_resolution = filter_shape.dy_resolution;\n",
      "dx_units = filter_shape.dx_units\n",
      "dy_units = filter_shape.dy_units;\n",
      "x_units = filter_shape.x_units\n",
      "y_units = filter_shape.y_units;\n",
      "dx = signed(imgobj.ndims[1]/dx_resolution-0.5)\n",
      "dy = signed(imgobj.ndims[2]/dy_resolution-0.5);\n",
      "x_offset = filter_shape.x_offset;\n",
      "y_offset = filter_shape.y_offset;\n",
      "\n",
      "x = Array[]\n",
      "for j in [1:y_units]\n",
      "    for i in [1:x_units]\n",
      "        if j == 1\n",
      "            if i == 1\n",
      "                push!(x, test_image.data[1*(y_offset+1):((dy*j)-1)*(y_offset+1)+1, 1*(x_offset+1):(dx*i)*(x_offset+1), :])\n",
      "            else\n",
      "                push!(x, test_image.data[1*(y_offset+1):((dy*j)-1)*(y_offset+1)+1, (dx*i)*(x_offset+1):((dx*(i+1))-1)*(x_offset+1), :])            \n",
      "            end\n",
      "        \n",
      "        else\n",
      "            if i == 1\n",
      "                push!(x, test_image.data[(dy*j)*(y_offset+1):(dy*(j+1)-1)*(y_offset+1), 1*(x_offset+1):(dx*i)*(x_offset+1), :])\n",
      "            else\n",
      "                push!(x, test_image.data[(dy*j)*(y_offset+1):(dy*(j+1)-1)*(y_offset+1), (dx*i)*(x_offset+1):((dx*(i+1))-1)*(x_offset+1), :])\n",
      "            end\n",
      "        end\n",
      "    end\n",
      "end"
     ],
     "language": "python",
     "metadata": {},
     "outputs": [],
     "prompt_number": 4
    },
    {
     "cell_type": "code",
     "collapsed": false,
     "input": [
      "Image(x[2], test_image.properties)\n",
      "#size(x[1])"
     ],
     "language": "python",
     "metadata": {},
     "outputs": [
      {
       "metadata": {},
       "output_type": "pyout",
       "png": "[encoded data removed]",
       "prompt_number": 5,
       "text": [
        "RGB Image with:\n",
        "  data: 81x62x3 Array{UfixedBase{Uint8,8},3}\n",
        "  properties:\n",
        "    colorspace: RGB\n",
        "    spatialorder:  y x\n",
        "    pixelspacing:  1 1\n",
        "    colordim: 3\n",
        "    IMcs: sRGB"
       ]
      }
     ],
     "prompt_number": 5
    },
    {
     "cell_type": "code",
     "collapsed": false,
     "input": [
      "x_offset = 2\n",
      "y_offset = 1\n",
      "j = 1\n",
      "i = 2\n",
      "#y_test = [(1*(y_offset+1)*dy)-dy+1:((dy*j)-1)*(y_offset+1)+(1+y_offset)]\n",
      "#x_test = [(1*(x_offset+1)*dx)-dx+1:((dx*i)-1)*(x_offset+1)+(1+x_offset)]\n",
      "\n",
      "#y_not0_test = [(dy*j)*(y_offset+1)+1:(((dy*(j+1))-1)*((y_offset+1)))-dy+(1+y_offset)]\n",
      "#x_not0_test = [(dx*i)*(x_offset+1)+1:(((dx*(i+1))-1)*((x_offset+1)))-dx+(1+x_offset)]\n",
      "#x_not0_test = [((dx*i+dx)-dx)+1:(((dx*(i+1))-1)*((x_offset+1)))-dx+(1+x_offset)]"
     ],
     "language": "python",
     "metadata": {},
     "outputs": [
      {
       "metadata": {},
       "output_type": "pyout",
       "prompt_number": 374,
       "text": [
        "2"
       ]
      }
     ],
     "prompt_number": 374
    },
    {
     "cell_type": "code",
     "collapsed": false,
     "input": [
      "(x_offset+1)"
     ],
     "language": "python",
     "metadata": {},
     "outputs": [
      {
       "metadata": {},
       "output_type": "pyout",
       "prompt_number": 449,
       "text": [
        "1"
       ]
      }
     ],
     "prompt_number": 449
    },
    {
     "cell_type": "code",
     "collapsed": false,
     "input": [
      "filter_shape  = FilterGeometry(8, 8, 4, 5, 3, 2, 0, 0);\n",
      "dx_resolution = filter_shape.dx_resolution\n",
      "dy_resolution = filter_shape.dy_resolution;\n",
      "dx_units = filter_shape.dx_units\n",
      "dy_units = filter_shape.dy_units;\n",
      "x_units = filter_shape.x_units\n",
      "y_units = filter_shape.y_units;\n",
      "dx = signed(imgobj.ndims[1]/dx_resolution-0.5)\n",
      "dy = signed(imgobj.ndims[2]/dy_resolution-0.5);\n",
      "x_offset = filter_shape.x_offset;\n",
      "y_offset = filter_shape.y_offset;\n",
      "\n",
      "x = Array[]\n",
      "for j in [1:y_units]\n",
      "    for i in [1:x_units]\n",
      "        if j == 1\n",
      "            if i == 1\n",
      "                push!(x, test_image.data[(1*(y_offset+1)*dy)-dy+1:((dy*j)-1)*(y_offset+1)+(1+y_offset),(1*(x_offset+1)*dx)-dx+1:((dx*i)-1)*(x_offset+1)+(1+x_offset), :])\n",
      "            else\n",
      "                push!(x, test_image.data[(1*(y_offset+1)*dy)-dy+1:((dy*j)-1)*(y_offset+1)+(1+y_offset), (dx*i)*(x_offset+1)+1:(((dx*(i+1))-1)*((x_offset+1)))-dx+(1+x_offset), :])            \n",
      "            end\n",
      "        \n",
      "        else\n",
      "            if i == 1\n",
      "                push!(x, test_image.data[(dy*j)*(y_offset+1)+1:(((dy*(j+1))-1)*((y_offset+1)))-dy+(1+y_offset), (1*(x_offset+1)*dx)-dx+1:((dx*i)-1)*(x_offset+1)+(1+x_offset), :])\n",
      "            else\n",
      "                push!(x, test_image.data[(dy*j)*(y_offset+1)+1:(((dy*(j+1))-1)*((y_offset+1)))-dy+(1+y_offset), (dx*i)*(x_offset+1)+1:(((dx*(i+1))-1)*((x_offset+1)))-dx+(1+x_offset), :])\n",
      "            end\n",
      "        end\n",
      "    end\n",
      "end"
     ],
     "language": "python",
     "metadata": {},
     "outputs": [],
     "prompt_number": 469
    },
    {
     "cell_type": "code",
     "collapsed": false,
     "input": [
      "data(Image(x[1], test_image.properties))"
     ],
     "language": "python",
     "metadata": {},
     "outputs": [
      {
       "metadata": {},
       "output_type": "pyout",
       "prompt_number": 14,
       "text": [
        "81x62x3 Array{UfixedBase{Uint8,8},3}:\n",
        "[:, :, 1] =\n",
        " 0.882  0.882  0.886  0.898  0.898  \u2026  0.867  0.851  0.851  0.851  0.859\n",
        " 0.89   0.894  0.886  0.878  0.91      0.847  0.863  0.898  0.855  0.855\n",
        " 0.918  0.894  0.882  0.882  0.906     0.867  0.867  0.922  0.878  0.867\n",
        " 0.878  0.878  0.859  0.863  0.875     0.859  0.902  0.914  0.867  0.827\n",
        " 0.918  0.878  0.902  0.906  0.871     0.875  0.886  0.886  0.878  0.855\n",
        " 0.902  0.902  0.918  0.867  0.875  \u2026  0.878  0.859  0.878  0.859  0.843\n",
        " 0.867  0.875  0.918  0.878  0.855     0.871  0.859  0.882  0.871  0.875\n",
        " 0.882  0.863  0.89   0.918  0.898     0.898  0.863  0.863  0.867  0.878\n",
        " 0.91   0.882  0.906  0.882  0.863     0.827  0.871  0.863  0.898  0.925\n",
        " 0.91   0.898  0.906  0.894  0.89      0.839  0.863  0.875  0.871  0.878\n",
        " 0.886  0.914  0.906  0.91   0.922  \u2026  0.839  0.882  0.89   0.902  0.875\n",
        " 0.886  0.886  0.89   0.898  0.925     0.875  0.839  0.882  0.859  0.89 \n",
        " 0.878  0.875  0.914  0.898  0.886     0.863  0.894  0.875  0.843  0.914\n",
        " \u22ee                                  \u22f1                       \u22ee           \n",
        " 0.855  0.902  0.91   0.922  0.902     0.953  0.973  0.949  0.945  0.933\n",
        " 0.875  0.933  0.875  0.863  0.902  \u2026  0.969  0.957  0.945  0.965  0.941\n",
        " 0.89   0.918  0.906  0.886  0.898     0.941  0.953  0.965  0.961  0.98 \n",
        " 0.902  0.882  0.882  0.878  0.894     0.98   0.957  0.961  0.957  0.937\n",
        " 0.898  0.91   0.91   0.886  0.882     0.941  0.969  0.949  0.957  0.949\n",
        " 0.906  0.918  0.914  0.894  0.902     0.945  0.969  0.965  0.973  0.961\n",
        " 0.898  0.894  0.894  0.882  0.914  \u2026  0.957  0.953  0.961  0.957  0.953\n",
        " 0.878  0.914  0.929  0.918  0.922     0.957  0.953  0.953  0.937  0.957\n",
        " 0.89   0.918  0.918  0.922  0.906     0.965  0.945  0.961  0.949  0.961\n",
        " 0.925  0.914  0.894  0.906  0.914     0.957  0.937  0.949  0.961  0.961\n",
        " 0.918  0.898  0.91   0.902  0.925     0.941  0.961  0.925  0.961  0.976\n",
        " 0.937  0.922  0.894  0.922  0.894  \u2026  0.918  0.965  0.961  0.957  0.949\n",
        "\n",
        "[:, :, 2] =\n",
        " 0.91   0.918  0.922  0.918  0.906  \u2026  0.898  0.89   0.91   0.918  0.902\n",
        " 0.925  0.937  0.929  0.906  0.918     0.882  0.89   0.929  0.906  0.91 \n",
        " 0.953  0.941  0.925  0.918  0.925     0.914  0.886  0.929  0.902  0.925\n",
        " 0.91   0.914  0.902  0.906  0.902     0.91   0.922  0.918  0.898  0.902\n",
        " 0.929  0.898  0.929  0.937  0.902     0.91   0.922  0.91   0.929  0.929\n",
        " 0.914  0.914  0.933  0.894  0.91   \u2026  0.906  0.902  0.929  0.918  0.898\n",
        " 0.882  0.89   0.933  0.898  0.886     0.902  0.906  0.945  0.922  0.898\n",
        " 0.906  0.886  0.91   0.933  0.922     0.933  0.91   0.925  0.906  0.886\n",
        " 0.925  0.894  0.925  0.898  0.878     0.867  0.91   0.91   0.925  0.941\n",
        " 0.929  0.918  0.922  0.91   0.902     0.894  0.91   0.886  0.875  0.914\n",
        " 0.918  0.933  0.922  0.918  0.929  \u2026  0.906  0.933  0.906  0.914  0.91 \n",
        " 0.925  0.918  0.906  0.906  0.933     0.925  0.898  0.953  0.918  0.922\n",
        " 0.918  0.906  0.933  0.918  0.898     0.902  0.941  0.945  0.914  0.961\n",
        " \u22ee                                  \u22f1                       \u22ee           \n",
        " 0.89   0.914  0.925  0.937  0.914     0.961  0.98   0.957  0.953  0.941\n",
        " 0.914  0.945  0.902  0.91   0.922  \u2026  0.984  0.973  0.953  0.973  0.949\n",
        " 0.91   0.925  0.941  0.941  0.929     0.976  0.973  0.98   0.969  0.988\n",
        " 0.898  0.894  0.922  0.925  0.925     0.996  0.969  0.973  0.965  0.941\n",
        " 0.902  0.929  0.945  0.925  0.914     0.957  0.984  0.965  0.973  0.965\n",
        " 0.914  0.933  0.945  0.925  0.933     0.961  0.98   0.976  0.988  0.976\n",
        " 0.914  0.91   0.925  0.914  0.945  \u2026  0.973  0.965  0.973  0.969  0.973\n",
        " 0.906  0.933  0.949  0.937  0.953     0.969  0.969  0.973  0.953  0.976\n",
        " 0.91   0.937  0.933  0.941  0.937     0.976  0.961  0.976  0.965  0.973\n",
        " 0.945  0.925  0.906  0.925  0.953     0.973  0.949  0.961  0.973  0.973\n",
        " 0.929  0.91   0.922  0.922  0.961     0.953  0.973  0.941  0.976  0.988\n",
        " 0.953  0.941  0.925  0.957  0.945  \u2026  0.937  0.98   0.976  0.973  0.965\n",
        "\n",
        "[:, :, 3] =\n",
        " 0.847  0.851  0.847  0.839  0.824  \u2026  0.816  0.796  0.835  0.855  0.835\n",
        " 0.851  0.871  0.863  0.835  0.835     0.816  0.82   0.871  0.839  0.82 \n",
        " 0.871  0.863  0.859  0.851  0.847     0.82   0.8    0.875  0.847  0.843\n",
        " 0.82   0.839  0.839  0.843  0.839     0.808  0.835  0.863  0.839  0.827\n",
        " 0.847  0.82   0.867  0.878  0.843     0.843  0.855  0.855  0.863  0.851\n",
        " 0.839  0.847  0.875  0.831  0.843  \u2026  0.835  0.835  0.859  0.843  0.839\n",
        " 0.824  0.831  0.867  0.82   0.796     0.812  0.82   0.843  0.843  0.851\n",
        " 0.859  0.831  0.831  0.843  0.812     0.859  0.831  0.824  0.812  0.831\n",
        " 0.835  0.812  0.847  0.831  0.812     0.769  0.816  0.824  0.855  0.875\n",
        " 0.843  0.839  0.855  0.851  0.835     0.804  0.824  0.82   0.812  0.831\n",
        " 0.827  0.855  0.855  0.863  0.875  \u2026  0.831  0.863  0.839  0.847  0.827\n",
        " 0.827  0.827  0.839  0.851  0.878     0.847  0.816  0.859  0.827  0.831\n",
        " 0.82   0.816  0.855  0.839  0.824     0.808  0.847  0.843  0.812  0.867\n",
        " \u22ee                                  \u22f1                       \u22ee           \n",
        " 0.808  0.847  0.867  0.878  0.847     0.875  0.894  0.875  0.871  0.859\n",
        " 0.82   0.871  0.831  0.831  0.843  \u2026  0.894  0.882  0.867  0.886  0.867\n",
        " 0.824  0.843  0.859  0.851  0.839     0.871  0.882  0.89   0.882  0.902\n",
        " 0.82   0.812  0.827  0.831  0.835     0.906  0.886  0.906  0.91   0.871\n",
        " 0.831  0.851  0.863  0.831  0.824     0.867  0.894  0.875  0.882  0.875\n",
        " 0.859  0.867  0.863  0.835  0.843     0.863  0.906  0.902  0.898  0.886\n",
        " 0.855  0.843  0.843  0.824  0.855  \u2026  0.875  0.882  0.898  0.886  0.886\n",
        " 0.835  0.855  0.863  0.847  0.859     0.886  0.863  0.855  0.847  0.89 \n",
        " 0.831  0.851  0.843  0.851  0.843     0.894  0.855  0.871  0.875  0.89 \n",
        " 0.859  0.843  0.824  0.839  0.859     0.882  0.867  0.878  0.898  0.89 \n",
        " 0.847  0.827  0.847  0.843  0.878     0.871  0.89   0.851  0.871  0.882\n",
        " 0.863  0.855  0.843  0.875  0.867  \u2026  0.851  0.89   0.886  0.875  0.867"
       ]
      }
     ],
     "prompt_number": 14
    },
    {
     "cell_type": "code",
     "collapsed": false,
     "input": [
      "((dx*i+dx)-dx)+1"
     ],
     "language": "python",
     "metadata": {},
     "outputs": [
      {
       "metadata": {},
       "output_type": "pyout",
       "prompt_number": 372,
       "text": [
        "125"
       ]
      }
     ],
     "prompt_number": 372
    },
    {
     "cell_type": "code",
     "collapsed": false,
     "input": [
      "x_offset = 2\n",
      "y_offset = 1\n",
      "j = 1\n",
      "i = 2\n",
      "#y_test = [(1*(y_offset+1)*dy)-dy+1:((dy*j)-1)*(y_offset+1)+(1+y_offset)]\n",
      "#x_test = [(1*(x_offset+1)*dx)-dx+1:((dx*i)-1)*(x_offset+1)+(1+x_offset)]\n",
      "\n",
      "#y_not0_test = [(dy*j)*(y_offset+1)+1:(((dy*(j+1))-1)*((y_offset+1)))-dy+(1+y_offset)]\n",
      "#x_not0_test = [(dx*i)*(x_offset+1)+1:(((dx*(i+1))-1)*((x_offset+1)))-dx+(1+x_offset)]\n",
      "#x_not0_test = [((dx*i+dx)-dx)+1:(((dx*(i+1))-1)*((x_offset+1)))-dx+(1+x_offset)]dx*1+1\n",
      "((dx*i)+1)"
     ],
     "language": "python",
     "metadata": {},
     "outputs": [
      {
       "metadata": {},
       "output_type": "pyout",
       "prompt_number": 528,
       "text": [
        "125"
       ]
      }
     ],
     "prompt_number": 528
    },
    {
     "cell_type": "code",
     "collapsed": false,
     "input": [
      "(x_offset+1)*(dx*i)-(i*dx)+1+(x_offset)-1: (x_offset+1)*(dx*i)-(i*dx)+(dx+1)-1"
     ],
     "language": "python",
     "metadata": {},
     "outputs": [
      {
       "metadata": {},
       "output_type": "pyout",
       "prompt_number": 527,
       "text": [
        "374:434"
       ]
      }
     ],
     "prompt_number": 527
    },
    {
     "cell_type": "code",
     "collapsed": false,
     "input": [
      "1:62, 62:124, 125:186"
     ],
     "language": "python",
     "metadata": {},
     "outputs": [
      {
       "metadata": {},
       "output_type": "pyout",
       "prompt_number": 521,
       "text": [
        "(1:62,62:124,125:186)"
       ]
      }
     ],
     "prompt_number": 521
    },
    {
     "cell_type": "code",
     "collapsed": false,
     "input": [
      "125+dx"
     ],
     "language": "python",
     "metadata": {},
     "outputs": [
      {
       "metadata": {},
       "output_type": "pyout",
       "prompt_number": 520,
       "text": [
        "187"
       ]
      }
     ],
     "prompt_number": 520
    },
    {
     "cell_type": "code",
     "collapsed": false,
     "input": [],
     "language": "python",
     "metadata": {},
     "outputs": []
    }
   ],
   "metadata": {}
  }
 ]
}