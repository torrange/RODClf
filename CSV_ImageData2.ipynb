{
 "metadata": {
  "language": "Julia",
  "name": "",
  "signature": "sha256:427e2a8cd834214496c6929b0f1a1f3836b826980c51fea7c8c8bc4b49c4496b"
 },
 "nbformat": 3,
 "nbformat_minor": 0,
 "worksheets": [
  {
   "cells": [
    {
     "cell_type": "code",
     "collapsed": false,
     "input": [
      "using Images, RODClf, Color, FixedPointNumbers"
     ],
     "language": "python",
     "metadata": {},
     "outputs": [],
     "prompt_number": 10
    },
    {
     "cell_type": "code",
     "collapsed": false,
     "input": [
      "images_csv = readcsv(\"./dataset/test.csv\");"
     ],
     "language": "python",
     "metadata": {},
     "outputs": [],
     "prompt_number": 11
    },
    {
     "cell_type": "code",
     "collapsed": false,
     "input": [
      "props = {\"spatialorder\" => ASCIIString[\"x\",\"y\"],\"pixelspacing\" => [1,1],\"IMcs\" => \"sRGB\"}"
     ],
     "language": "python",
     "metadata": {},
     "outputs": [
      {
       "metadata": {},
       "output_type": "pyout",
       "prompt_number": 12,
       "text": [
        "Dict{Any,Any} with 3 entries:\n",
        "  \"spatialorder\" => ASCIIString[\"x\",\"y\"]\n",
        "  \"pixelspacing\" => [1,1]\n",
        "  \"IMcs\"         => \"sRGB\""
       ]
      }
     ],
     "prompt_number": 12
    },
    {
     "cell_type": "code",
     "collapsed": false,
     "input": [
      "y = [convert(Ufixed8,convert(Uint8,0xff-integer(x))) for x in split(images_csv[1324,2], \" \")];\n",
      "z = reshape([RGB{Ufixed8}(x, x, x) for x in y], (96,96));"
     ],
     "language": "python",
     "metadata": {},
     "outputs": [],
     "prompt_number": 26
    },
    {
     "cell_type": "code",
     "collapsed": false,
     "input": [
      "Image(z, props)"
     ],
     "language": "python",
     "metadata": {},
     "outputs": [
      {
       "metadata": {},
       "output_type": "pyout",
       "png": "[encoded data removed]",
       "prompt_number": 27,
       "text": [
        "RGB Image with:\n",
        "  data: 96x96 Array{RGB{UfixedBase{Uint8,8}},2}\n",
        "  properties:\n",
        "    spatialorder:  x y\n",
        "    pixelspacing:  1 1\n",
        "    IMcs: sRGB"
       ]
      }
     ],
     "prompt_number": 27
    },
    {
     "cell_type": "code",
     "collapsed": false,
     "input": [
      "length(images_csv[1324,2])"
     ],
     "language": "python",
     "metadata": {},
     "outputs": [
      {
       "metadata": {},
       "output_type": "pyout",
       "prompt_number": 20,
       "text": [
        "30703"
       ]
      }
     ],
     "prompt_number": 20
    },
    {
     "cell_type": "code",
     "collapsed": false,
     "input": [
      "size(images_csv)"
     ],
     "language": "python",
     "metadata": {},
     "outputs": [
      {
       "metadata": {},
       "output_type": "pyout",
       "prompt_number": 25,
       "text": [
        "(1784,2)"
       ]
      }
     ],
     "prompt_number": 25
    },
    {
     "cell_type": "code",
     "collapsed": false,
     "input": [
      "sh(z)"
     ],
     "language": "python",
     "metadata": {},
     "outputs": [
      {
       "metadata": {},
       "output_type": "pyout",
       "prompt_number": 23,
       "text": [
        "27648"
       ]
      }
     ],
     "prompt_number": 23
    },
    {
     "cell_type": "code",
     "collapsed": false,
     "input": [],
     "language": "python",
     "metadata": {},
     "outputs": []
    }
   ],
   "metadata": {}
  }
 ]
}