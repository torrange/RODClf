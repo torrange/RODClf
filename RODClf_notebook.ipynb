{
 "metadata": {
  "language": "Julia",
  "name": "",
  "signature": "sha256:4d3de60b7fc22d8ab5330a0f0ffdf1e4284bd860baf6c35b3050588f8df57006"
 },
 "nbformat": 3,
 "nbformat_minor": 0,
 "worksheets": [
  {
   "cells": [
    {
     "cell_type": "code",
     "collapsed": false,
     "input": [
      "using RODClf, Images"
     ],
     "language": "python",
     "metadata": {},
     "outputs": [],
     "prompt_number": 1
    },
    {
     "cell_type": "heading",
     "level": 3,
     "metadata": {},
     "source": [
      "Load test image data"
     ]
    },
    {
     "cell_type": "code",
     "collapsed": false,
     "input": [
      "#test image data\n",
      "imgobj = img_load(\"test.jpg\");\n",
      "test_image = separate(Image(imgobj.image, imgobj.properties));"
     ],
     "language": "python",
     "metadata": {},
     "outputs": [],
     "prompt_number": 2
    },
    {
     "cell_type": "heading",
     "level": 3,
     "metadata": {},
     "source": [
      "Define filter geometry"
     ]
    },
    {
     "cell_type": "code",
     "collapsed": false,
     "input": [
      "filter_shape  = FilterGeometry(8, 8, 4, 5, 3, 2, 1, 1);"
     ],
     "language": "python",
     "metadata": {},
     "outputs": [],
     "prompt_number": 3
    },
    {
     "cell_type": "heading",
     "level": 3,
     "metadata": {},
     "source": [
      "Define how many segments the 'x' and 'y' axis should be split into"
     ]
    },
    {
     "cell_type": "code",
     "collapsed": false,
     "input": [
      "dx_resolution = filter_shape.dx_resolution\n",
      "dy_resolution = filter_shape.dy_resolution;"
     ],
     "language": "python",
     "metadata": {},
     "outputs": [],
     "prompt_number": 4
    },
    {
     "cell_type": "heading",
     "level": 3,
     "metadata": {},
     "source": [
      "Define how many segments are required for both 'x' and 'y' axis"
     ]
    },
    {
     "cell_type": "code",
     "collapsed": false,
     "input": [
      "dx_units = filter_shape.dx_units\n",
      "dy_units = filter_shape.dy_units;"
     ],
     "language": "python",
     "metadata": {},
     "outputs": [],
     "prompt_number": 5
    },
    {
     "cell_type": "heading",
     "level": 3,
     "metadata": {},
     "source": [
      "Define number of visible panels on 'x' and 'y' axis; corresponds to lateral and vertical split"
     ]
    },
    {
     "cell_type": "code",
     "collapsed": false,
     "input": [
      "x_units = filter_shape.x_units\n",
      "y_units = filter_shape.y_units;"
     ],
     "language": "python",
     "metadata": {},
     "outputs": [],
     "prompt_number": 6
    },
    {
     "cell_type": "heading",
     "level": 3,
     "metadata": {},
     "source": [
      "Create 'dx' and 'dy' values for 'x' and 'y' axis,  measured in pixels "
     ]
    },
    {
     "cell_type": "code",
     "collapsed": false,
     "input": [
      "dx = signed(imgobj.ndims[1]/dx_resolution-0.5)\n",
      "dy = signed(imgobj.ndims[2]/dy_resolution-0.5);"
     ],
     "language": "python",
     "metadata": {},
     "outputs": [],
     "prompt_number": 7
    },
    {
     "cell_type": "heading",
     "level": 3,
     "metadata": {},
     "source": [
      "Define filter-offset"
     ]
    },
    {
     "cell_type": "code",
     "collapsed": false,
     "input": [
      "x_offset = 0\n",
      "y_offset = 0;"
     ],
     "language": "python",
     "metadata": {},
     "outputs": [],
     "prompt_number": 80
    },
    {
     "cell_type": "heading",
     "level": 3,
     "metadata": {},
     "source": [
      "Generate filter-coefficients (with offset)"
     ]
    },
    {
     "cell_type": "raw",
     "metadata": {},
     "source": [
      "Initialise empty array, 'x', iterate over 'panels' in filter, generating the filter-coefficients for each dimension"
     ]
    },
    {
     "cell_type": "code",
     "collapsed": false,
     "input": [
      "x = Array[]\n",
      "for j in [1:y_units]\n",
      "    for i in [1:x_units]\n",
      "        #push!(x, test_image.data[dy*j:dy*dy_units, dx*i:dx*dx_units, :])\n",
      "        if j == 1\n",
      "            if i == 1\n",
      "                push!(x, test_image.data[1*(y_offset+1):((dy*j)-1)*(y_offset+1), 1*(x_offset+1):(dx*i)*(x_offset+1), :])\n",
      "            else\n",
      "                push!(x, test_image.data[1*(y_offset+1):((dy*j)-1)*(y_offset+1), (dx*i)*(x_offset+1):((dx*(i+1))-1)*(x_offset+1), :])\n",
      "                \n",
      "            end\n",
      "        else\n",
      "            if i == 1\n",
      "                push!(x, test_image.data[(dy*j)*(y_offset+1):(dy*(j+1)-1)*(y_offset+1), 1*(x_offset+1):(dx*i)*(x_offset+1), :])\n",
      "            else\n",
      "                push!(x, test_image.data[(dy*j)*(y_offset+1):(dy*(j+1)-1)*(y_offset+1), (dx*i)*(x_offset+1):((dx*(i+1))-1)*(x_offset+1), :])\n",
      "            end\n",
      "        end\n",
      "    end\n",
      "end"
     ],
     "language": "python",
     "metadata": {},
     "outputs": [],
     "prompt_number": 53
    },
    {
     "cell_type": "heading",
     "level": 3,
     "metadata": {},
     "source": [
      "Calculate image integral"
     ]
    },
    {
     "cell_type": "code",
     "collapsed": false,
     "input": [
      "tot = 0\n",
      "for pt in x[1]\n",
      "    tot += pt\n",
      "end\n",
      "print(tot)"
     ],
     "language": "python",
     "metadata": {},
     "outputs": [
      {
       "output_type": "stream",
       "stream": "stdout",
       "text": [
        "12805."
       ]
      },
      {
       "output_type": "stream",
       "stream": "stdout",
       "text": [
        "176470587205"
       ]
      }
     ],
     "prompt_number": 65
    },
    {
     "cell_type": "code",
     "collapsed": false,
     "input": [
      "Image(x[1], test_image.properties)"
     ],
     "language": "python",
     "metadata": {},
     "outputs": [
      {
       "metadata": {},
       "output_type": "pyout",
       "png": "[encoded data removed]",
       "prompt_number": 68,
       "text": [
        "RGB Image with:\n",
        "  data: 80x62x3 Array{UfixedBase{Uint8,8},3}\n",
        "  properties:\n",
        "    IMcs: sRGB\n",
        "    colorspace: RGB\n",
        "    colordim: 3\n",
        "    spatialorder:  y x\n",
        "    pixelspacing:  1 1"
       ]
      }
     ],
     "prompt_number": 68
    },
    {
     "cell_type": "code",
     "collapsed": false,
     "input": [
      "[   (1 * (y_offset+1) * dy) - dy  :     ((dy*1)-1) * (y_offset+1)     ]"
     ],
     "language": "python",
     "metadata": {},
     "outputs": [
      {
       "metadata": {},
       "output_type": "pyout",
       "prompt_number": 81,
       "text": [
        "81-element Array{Int64,1}:\n",
        "  0\n",
        "  1\n",
        "  2\n",
        "  3\n",
        "  4\n",
        "  5\n",
        "  6\n",
        "  7\n",
        "  8\n",
        "  9\n",
        " 10\n",
        " 11\n",
        " 12\n",
        "  \u22ee\n",
        " 69\n",
        " 70\n",
        " 71\n",
        " 72\n",
        " 73\n",
        " 74\n",
        " 75\n",
        " 76\n",
        " 77\n",
        " 78\n",
        " 79\n",
        " 80"
       ]
      }
     ],
     "prompt_number": 81
    },
    {
     "cell_type": "code",
     "collapsed": false,
     "input": [
      "dy"
     ],
     "language": "python",
     "metadata": {},
     "outputs": [
      {
       "metadata": {},
       "output_type": "pyout",
       "prompt_number": 66,
       "text": [
        "81"
       ]
      }
     ],
     "prompt_number": 66
    },
    {
     "cell_type": "code",
     "collapsed": false,
     "input": [],
     "language": "python",
     "metadata": {},
     "outputs": [
      {
       "metadata": {},
       "output_type": "pyout",
       "prompt_number": 77,
       "text": [
        "81"
       ]
      }
     ],
     "prompt_number": 77
    },
    {
     "cell_type": "code",
     "collapsed": false,
     "input": [],
     "language": "python",
     "metadata": {},
     "outputs": []
    }
   ],
   "metadata": {}
  }
 ]
}