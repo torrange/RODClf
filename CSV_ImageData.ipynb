{
 "metadata": {
  "language": "Julia",
  "name": "",
  "signature": "sha256:d0da578a05ea8011c5e8888bb708a117c06a3e81b57c9c8a3070ad819f3f3c36"
 },
 "nbformat": 3,
 "nbformat_minor": 0,
 "worksheets": [
  {
   "cells": [
    {
     "cell_type": "code",
     "collapsed": false,
     "input": [
      "using Images, RODClf, Color, FixedPointNumbers"
     ],
     "language": "python",
     "metadata": {},
     "outputs": [],
     "prompt_number": 1
    },
    {
     "cell_type": "code",
     "collapsed": false,
     "input": [
      "images_csv = readcsv(\"./dataset/test.csv\");"
     ],
     "language": "python",
     "metadata": {},
     "outputs": [],
     "prompt_number": 2
    },
    {
     "cell_type": "code",
     "collapsed": false,
     "input": [
      "row_image = (reshape([integer(x) for x in split(images_csv[202,2], \" \")], (96,96)));"
     ],
     "language": "python",
     "metadata": {},
     "outputs": [],
     "prompt_number": 29
    },
    {
     "cell_type": "code",
     "collapsed": false,
     "input": [
      "example_jpg = imread(\"test.jpg\");"
     ],
     "language": "python",
     "metadata": {},
     "outputs": [],
     "prompt_number": 30
    },
    {
     "cell_type": "code",
     "collapsed": false,
     "input": [
      "y = [convert(Ufixed8,integer(x)) for x in split(images_csv[202,2], \" \")];\n"
     ],
     "language": "python",
     "metadata": {},
     "outputs": [],
     "prompt_number": 31
    },
    {
     "cell_type": "code",
     "collapsed": false,
     "input": [
      "z = reshape(y, (96,96));"
     ],
     "language": "python",
     "metadata": {},
     "outputs": [],
     "prompt_number": 32
    },
    {
     "cell_type": "code",
     "collapsed": false,
     "input": [
      "colour = row_image[12,3] * 0x00010101\n",
      "r = (colour >> 16) & 0xff;\n",
      "g = (colour >> 8) & 0xff;\n",
      "b = colour & 0xff;\n",
      "pixel_test = [r,g,b]"
     ],
     "language": "python",
     "metadata": {},
     "outputs": [
      {
       "metadata": {},
       "output_type": "pyout",
       "prompt_number": 178,
       "text": [
        "3-element Array{Int64,1}:\n",
        " 45\n",
        " 45\n",
        " 45"
       ]
      }
     ],
     "prompt_number": 178
    },
    {
     "cell_type": "code",
     "collapsed": false,
     "input": [
      "z = [RGB{Ufixed8}(x, x, x) for x in y];"
     ],
     "language": "python",
     "metadata": {},
     "outputs": [],
     "prompt_number": 33
    },
    {
     "cell_type": "code",
     "collapsed": false,
     "input": [
      "RGB{Ufixed8}(0.882,0.91,0.847)"
     ],
     "language": "python",
     "metadata": {},
     "outputs": [
      {
       "metadata": {},
       "output_type": "pyout",
       "prompt_number": 185,
       "svg": [
        "<?xml version\"1.0\" encoding=\"UTF-8\"?>\n",
        "<!DOCTYPE svg PUBLIC \"-//W3C//DTD SVG 1.1//EN\"\n",
        " \"http://www.w3.org/Graphics/SVG/1.1/DTD/svg11.dtd\">\n",
        "<svg xmlns=\"http://www.w3.org/2000/svg\" version=\"1.1\"\n",
        "     width=\"25mm\" height=\"25mm\" viewBox=\"0 0 1 1\">\n",
        "     <rect width=\"1\" height=\"1\"\n",
        "           fill=\"#E1E8D8\" stroke=\"none\"/>\n",
        "</svg>\n"
       ],
       "text": [
        "RGB{Ufixed8}(0.882,0.91,0.847)"
       ]
      }
     ],
     "prompt_number": 185
    },
    {
     "cell_type": "code",
     "collapsed": false,
     "input": [
      "[convert(Ufixed8, x) for x in pixel_test]"
     ],
     "language": "python",
     "metadata": {},
     "outputs": [
      {
       "metadata": {},
       "output_type": "pyout",
       "prompt_number": 192,
       "text": [
        "3-element Array{Any,1}:\n",
        " 0.827\n",
        " 0.827\n",
        " 0.827"
       ]
      }
     ],
     "prompt_number": 192
    },
    {
     "cell_type": "code",
     "collapsed": false,
     "input": [
      "Image(reshape(z, (96,96)), example_jpg.properties)"
     ],
     "language": "python",
     "metadata": {},
     "outputs": [
      {
       "metadata": {},
       "output_type": "pyout",
       "png": "[encoded data removed]",
       "prompt_number": 34,
       "text": [
        "RGB Image with:\n",
        "  data: 96x96 Array{RGB{UfixedBase{Uint8,8}},2}\n",
        "  properties:\n",
        "    spatialorder:  x y\n",
        "    pixelspacing:  1 1\n",
        "    IMcs: sRGB"
       ]
      }
     ],
     "prompt_number": 34
    },
    {
     "cell_type": "code",
     "collapsed": false,
     "input": [
      "example_jpg.properties"
     ],
     "language": "python",
     "metadata": {},
     "outputs": [
      {
       "metadata": {},
       "output_type": "pyout",
       "prompt_number": 28,
       "text": [
        "Dict{ASCIIString,Any} with 4 entries:\n",
        "  \"spatialorder\" => ASCIIString[\"y\",\"x\"]\n",
        "  \"spacialorder\" => ASCIIString[\"y\",\"x\"]\n",
        "  \"pixelspacing\" => [1,1]\n",
        "  \"IMcs\"         => \"sRGB\""
       ]
      }
     ],
     "prompt_number": 28
    },
    {
     "cell_type": "code",
     "collapsed": false,
     "input": [],
     "language": "python",
     "metadata": {},
     "outputs": []
    }
   ],
   "metadata": {}
  }
 ]
}